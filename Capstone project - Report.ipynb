{
 "cells": [
  {
   "cell_type": "markdown",
   "metadata": {},
   "source": [
    "# Distribution solution for milk delivery to Restaurants/Cafes in Scarborough, Toronto"
   ]
  },
  {
   "cell_type": "markdown",
   "metadata": {},
   "source": [
    "### Capstone Project - Battle of the Neighbourhoods\n"
   ]
  },
  {
   "cell_type": "markdown",
   "metadata": {},
   "source": [
    "## Problem Description\n",
    "\n",
    "There is a milk contractor that wants to start distributing milk in all neighbourhoods of  Scarborough, Toronto. This contractor wants timely delivery of milk to all major clusters of restaurants, cafes, bakeries and breakfast places every morning. \n",
    "\n",
    "The contractor wants to build an efficient network of delivery with maximum 10 delivery trucks and yet cover all areas within time. The contractor wants to segment every probable customer (restaurant/cafe/bakery/breakfast place) into a group and operate each group as a separate entity for better and efficient customer service."
   ]
  },
  {
   "cell_type": "markdown",
   "metadata": {},
   "source": [
    "##  Data we need\n",
    " - We will need geo-locational information about that specific borough and the neighbourhoods in that borough. We specifically and technically mean the latitude and longitude numbers of that borough. This we will be able to get from the Geopy- geocoders library and the wikipedia page : https://en.wikipedia.org/wiki/List_of_postal_codes_of_Canada:_M\n",
    "\n",
    "\n",
    " - To cluster every restaurant/cafe/bakery/breakfast place will need data about different venues in different neighbourhoods of Scarborough. In order to gain that information we will use \"Foursquare\" locational information. By locational information for each venue we mean the venue id, venue name, its precise latitude and longitude co-ordinates and category of that venue."
   ]
  },
  {
   "cell_type": "markdown",
   "metadata": {},
   "source": [
    "Sample of the formant and data we need as below:"
   ]
  },
  {
   "cell_type": "code",
   "execution_count": 3,
   "metadata": {},
   "outputs": [],
   "source": [
    "import pandas as pd"
   ]
  },
  {
   "cell_type": "code",
   "execution_count": 6,
   "metadata": {},
   "outputs": [],
   "source": [
    "df = pd.read_csv('Scarborough_Venues')"
   ]
  },
  {
   "cell_type": "code",
   "execution_count": 8,
   "metadata": {},
   "outputs": [],
   "source": [
    "df.drop(['Unnamed: 0'], axis = 1 , inplace = True)"
   ]
  },
  {
   "cell_type": "code",
   "execution_count": 9,
   "metadata": {},
   "outputs": [
    {
     "data": {
      "text/html": [
       "<div>\n",
       "<style scoped>\n",
       "    .dataframe tbody tr th:only-of-type {\n",
       "        vertical-align: middle;\n",
       "    }\n",
       "\n",
       "    .dataframe tbody tr th {\n",
       "        vertical-align: top;\n",
       "    }\n",
       "\n",
       "    .dataframe thead th {\n",
       "        text-align: right;\n",
       "    }\n",
       "</style>\n",
       "<table border=\"1\" class=\"dataframe\">\n",
       "  <thead>\n",
       "    <tr style=\"text-align: right;\">\n",
       "      <th></th>\n",
       "      <th>Postcode</th>\n",
       "      <th>Neighbourhood</th>\n",
       "      <th>Neighbourhood Latitude</th>\n",
       "      <th>Neighbourhood Longitude</th>\n",
       "      <th>Venue_id</th>\n",
       "      <th>Venue</th>\n",
       "      <th>Venue Category</th>\n",
       "      <th>Venue_lat</th>\n",
       "      <th>Venue_lng</th>\n",
       "    </tr>\n",
       "  </thead>\n",
       "  <tbody>\n",
       "    <tr>\n",
       "      <th>0</th>\n",
       "      <td>M1B</td>\n",
       "      <td>Malvern,Rouge</td>\n",
       "      <td>43.806686</td>\n",
       "      <td>-79.194353</td>\n",
       "      <td>4b914562f964a520d4ae33e3</td>\n",
       "      <td>Caribbean Wave</td>\n",
       "      <td>Caribbean Restaurant</td>\n",
       "      <td>43.798558</td>\n",
       "      <td>-79.195777</td>\n",
       "    </tr>\n",
       "    <tr>\n",
       "      <th>1</th>\n",
       "      <td>M1B</td>\n",
       "      <td>Malvern,Rouge</td>\n",
       "      <td>43.806686</td>\n",
       "      <td>-79.194353</td>\n",
       "      <td>4b6718c2f964a5203f3a2be3</td>\n",
       "      <td>Harvey's</td>\n",
       "      <td>Fast Food Restaurant</td>\n",
       "      <td>43.800106</td>\n",
       "      <td>-79.198258</td>\n",
       "    </tr>\n",
       "    <tr>\n",
       "      <th>2</th>\n",
       "      <td>M1B</td>\n",
       "      <td>Malvern,Rouge</td>\n",
       "      <td>43.806686</td>\n",
       "      <td>-79.194353</td>\n",
       "      <td>579a91b3498e9bd833afa78a</td>\n",
       "      <td>Wendy's</td>\n",
       "      <td>Fast Food Restaurant</td>\n",
       "      <td>43.802008</td>\n",
       "      <td>-79.198080</td>\n",
       "    </tr>\n",
       "    <tr>\n",
       "      <th>3</th>\n",
       "      <td>M1B</td>\n",
       "      <td>Malvern,Rouge</td>\n",
       "      <td>43.806686</td>\n",
       "      <td>-79.194353</td>\n",
       "      <td>4b16e23bf964a520edbe23e3</td>\n",
       "      <td>Tim Hortons</td>\n",
       "      <td>Coffee Shop</td>\n",
       "      <td>43.802000</td>\n",
       "      <td>-79.198169</td>\n",
       "    </tr>\n",
       "    <tr>\n",
       "      <th>4</th>\n",
       "      <td>M1B</td>\n",
       "      <td>Malvern,Rouge</td>\n",
       "      <td>43.806686</td>\n",
       "      <td>-79.194353</td>\n",
       "      <td>4bb6b9446edc76b0d771311c</td>\n",
       "      <td>Wendy's</td>\n",
       "      <td>Fast Food Restaurant</td>\n",
       "      <td>43.807448</td>\n",
       "      <td>-79.199056</td>\n",
       "    </tr>\n",
       "  </tbody>\n",
       "</table>\n",
       "</div>"
      ],
      "text/plain": [
       "  Postcode  Neighbourhood  Neighbourhood Latitude  Neighbourhood Longitude  \\\n",
       "0      M1B  Malvern,Rouge               43.806686               -79.194353   \n",
       "1      M1B  Malvern,Rouge               43.806686               -79.194353   \n",
       "2      M1B  Malvern,Rouge               43.806686               -79.194353   \n",
       "3      M1B  Malvern,Rouge               43.806686               -79.194353   \n",
       "4      M1B  Malvern,Rouge               43.806686               -79.194353   \n",
       "\n",
       "                   Venue_id           Venue        Venue Category  Venue_lat  \\\n",
       "0  4b914562f964a520d4ae33e3  Caribbean Wave  Caribbean Restaurant  43.798558   \n",
       "1  4b6718c2f964a5203f3a2be3        Harvey's  Fast Food Restaurant  43.800106   \n",
       "2  579a91b3498e9bd833afa78a         Wendy's  Fast Food Restaurant  43.802008   \n",
       "3  4b16e23bf964a520edbe23e3     Tim Hortons           Coffee Shop  43.802000   \n",
       "4  4bb6b9446edc76b0d771311c         Wendy's  Fast Food Restaurant  43.807448   \n",
       "\n",
       "   Venue_lng  \n",
       "0 -79.195777  \n",
       "1 -79.198258  \n",
       "2 -79.198080  \n",
       "3 -79.198169  \n",
       "4 -79.199056  "
      ]
     },
     "execution_count": 9,
     "metadata": {},
     "output_type": "execute_result"
    }
   ],
   "source": [
    "df.head()"
   ]
  },
  {
   "cell_type": "markdown",
   "metadata": {},
   "source": [
    "## Methodology"
   ]
  },
  {
   "cell_type": "markdown",
   "metadata": {},
   "source": [
    "On the data in the above format clustering is performed with **K-means Clustering**. The aim was to figure out the best value of k (no of clusters) which signifies number of delivery trucks.\n",
    "**Silhouette Coefficient** was used as the metric to evaluate the best k (no of clusters)"
   ]
  },
  {
   "cell_type": "markdown",
   "metadata": {},
   "source": [
    "The Silhouette Coefficient is calculated using the mean intra-cluster distance and the mean nearest-cluster distance for each sample.\n",
    "The best value is 1 and the worst value is -1. Values near 0 indicate overlapping clusters. Negative values generally indicate that a sample has been assigned to the wrong cluster, as a different cluster is more similar."
   ]
  },
  {
   "cell_type": "markdown",
   "metadata": {},
   "source": [
    "Visualization of the clusters for the best value of k was done using folium library"
   ]
  },
  {
   "cell_type": "markdown",
   "metadata": {},
   "source": [
    "## Results"
   ]
  },
  {
   "cell_type": "markdown",
   "metadata": {},
   "source": [
    "#### Foursquare Dataset\n",
    "\n",
    "The foursquare dataset retured in total 385 venues accross 115 categories (eg: Spa, Caribbean Restaurant, Fast-Food Restaurant, Coffee Shop, Paper/Office Supplies Store etc)\n",
    "\n",
    "From the above we selected categories that included : coffee shops, restaurants, bakeries and grocery stores. The final dataset contained 163 venues across 35 foursquare categories"
   ]
  },
  {
   "cell_type": "markdown",
   "metadata": {},
   "source": [
    "#### Best Value of K\n",
    "Based on k means clustering, below were the Silhouette Coefficients for different Ks\n",
    "- For n_clusters=2, The Silhouette Coefficient is 0.4010976248963884\n",
    "- For n_clusters=3, The Silhouette Coefficient is 0.5033882735481788\n",
    "- For n_clusters=4, The Silhouette Coefficient is 0.5094938106397492\n",
    "- For n_clusters=5, The Silhouette Coefficient is 0.5164653401561993\n",
    "- For n_clusters=6, The Silhouette Coefficient is 0.5232348359922512\n",
    "- For n_clusters=7, The Silhouette Coefficient is 0.5510735675113302\n",
    "- For n_clusters=8, The Silhouette Coefficient is 0.5676479743210102 \n",
    "- For n_clusters=9, The Silhouette Coefficient is 0.5875320034995417\n",
    "- For n_clusters=10, The Silhouette Coefficient is 0.6074921736586862"
   ]
  },
  {
   "cell_type": "markdown",
   "metadata": {},
   "source": [
    "## Discussion and Conclusion\n",
    "\n",
    "This Analysis concludes that the efficient number of clusters lie between 8-10. \n",
    "The suggested no of clusters i.e. the number of delivery trucks is 10. Each venue is assigned to one cluster and the deliveries can be sorted based on each cluster.\n",
    "Thank You!"
   ]
  }
 ],
 "metadata": {
  "kernelspec": {
   "display_name": "Python 3",
   "language": "python",
   "name": "python3"
  },
  "language_info": {
   "codemirror_mode": {
    "name": "ipython",
    "version": 3
   },
   "file_extension": ".py",
   "mimetype": "text/x-python",
   "name": "python",
   "nbconvert_exporter": "python",
   "pygments_lexer": "ipython3",
   "version": "3.6.6"
  }
 },
 "nbformat": 4,
 "nbformat_minor": 2
}
